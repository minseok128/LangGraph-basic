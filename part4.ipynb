{
 "cells": [
  {
   "cell_type": "code",
   "execution_count": 1,
   "metadata": {},
   "outputs": [
    {
     "data": {
      "text/plain": [
       "True"
      ]
     },
     "execution_count": 1,
     "metadata": {},
     "output_type": "execute_result"
    }
   ],
   "source": [
    "import dotenv\n",
    "import os\n",
    "\n",
    "dotenv.load_dotenv()"
   ]
  },
  {
   "cell_type": "code",
   "execution_count": 2,
   "metadata": {},
   "outputs": [],
   "source": [
    "from langgraph.checkpoint.memory import MemorySaver\n",
    "\n",
    "memory = MemorySaver()"
   ]
  },
  {
   "cell_type": "code",
   "execution_count": 3,
   "metadata": {},
   "outputs": [
    {
     "data": {
      "text/plain": [
       "<langgraph.graph.state.StateGraph at 0x118dd5550>"
      ]
     },
     "execution_count": 3,
     "metadata": {},
     "output_type": "execute_result"
    }
   ],
   "source": [
    "from typing import Annotated\n",
    "\n",
    "from langchain_openai import ChatOpenAI\n",
    "from langchain_community.tools.tavily_search import TavilySearchResults\n",
    "from langchain_core.messages import BaseMessage\n",
    "from typing_extensions import TypedDict\n",
    "\n",
    "from langgraph.graph import StateGraph, START, END\n",
    "from langgraph.graph.message import add_messages\n",
    "from langgraph.prebuilt import ToolNode, tools_condition\n",
    "\n",
    "\n",
    "class State(TypedDict):\n",
    "    messages: Annotated[list, add_messages]\n",
    "\n",
    "\n",
    "graph_builder = StateGraph(State)\n",
    "\n",
    "\n",
    "tool = TavilySearchResults(max_results=2)\n",
    "tools = [tool]\n",
    "llm = ChatOpenAI(model=\"gpt-4o-mini\")\n",
    "llm_with_tools = llm.bind_tools(tools)\n",
    "\n",
    "\n",
    "def chatbot(state: State):\n",
    "    return {\"messages\": [llm_with_tools.invoke(state[\"messages\"])]}\n",
    "\n",
    "\n",
    "graph_builder.add_node(\"chatbot\", chatbot)\n",
    "\n",
    "tool_node = ToolNode(tools=tools)\n",
    "graph_builder.add_node(\"tools\", tool_node)\n",
    "\n",
    "graph_builder.add_conditional_edges(\n",
    "    \"chatbot\",\n",
    "    tools_condition,\n",
    ")\n",
    "\n",
    "graph_builder.add_edge(\"tools\", \"chatbot\")\n",
    "graph_builder.add_edge(START, \"chatbot\")"
   ]
  },
  {
   "cell_type": "code",
   "execution_count": 6,
   "metadata": {},
   "outputs": [
    {
     "data": {
      "image/png": "[encoded data removed]",
      "text/plain": [
       "<IPython.core.display.Image object>"
      ]
     },
     "metadata": {},
     "output_type": "display_data"
    }
   ],
   "source": [
    "graph = graph_builder.compile(\n",
    "    checkpointer=memory,\n",
    "    interrupt_before=[\"tools\"]\n",
    ")\n",
    "\n",
    "from IPython.display import Image, display\n",
    "\n",
    "try:\n",
    "    img = Image(graph.get_graph().draw_mermaid_png())\n",
    "    display(img)\n",
    "except Exception as e:\n",
    "    print(f\"Error displaying image: {e}\")"
   ]
  },
  {
   "cell_type": "code",
   "execution_count": 8,
   "metadata": {},
   "outputs": [
    {
     "name": "stdout",
     "output_type": "stream",
     "text": [
      "================================\u001b[1m Human Message \u001b[0m=================================\n",
      "\n",
      "오늘의 날씨를 검색해서 알려줘\n",
      "==================================\u001b[1m Ai Message \u001b[0m==================================\n",
      "Tool Calls:\n",
      "  tavily_search_results_json (call_nhViPM80NxgLRAlBzK8DbK2p)\n",
      " Call ID: call_nhViPM80NxgLRAlBzK8DbK2p\n",
      "  Args:\n",
      "    query: 오늘의 날씨\n"
     ]
    }
   ],
   "source": [
    "config = {\"configurable\": {\"thread_id\": \"1\"}}\n",
    "user_input = \"오늘의 날씨를 검색해서 알려줘\"\n",
    "\n",
    "events = graph.stream(\n",
    "    {\"messages\": [(\"user\", user_input)]}, config, stream_mode=\"values\"\n",
    ")\n",
    "for event in events:\n",
    "    event[\"messages\"][-1].pretty_print()"
   ]
  },
  {
   "cell_type": "code",
   "execution_count": 9,
   "metadata": {},
   "outputs": [
    {
     "name": "stdout",
     "output_type": "stream",
     "text": [
      "StateSnapshot(values={'messages': [HumanMessage(content='오늘의 날씨를 알려줘', additional_kwargs={}, response_metadata={}, id='3cb4cc1b-75fd-4c03-a88c-2be7e05e4292'), AIMessage(content='', additional_kwargs={'tool_calls': [{'id': 'call_0ovpwwN91pC4fhyJ9CB9Y8L3', 'function': {'arguments': '{\"query\":\"오늘의 날씨\"}', 'name': 'tavily_search_results_json'}, 'type': 'function'}], 'refusal': None}, response_metadata={'token_usage': {'completion_tokens': 22, 'prompt_tokens': 86, 'total_tokens': 108, 'completion_tokens_details': {'accepted_prediction_tokens': 0, 'audio_tokens': 0, 'reasoning_tokens': 0, 'rejected_prediction_tokens': 0}, 'prompt_tokens_details': {'audio_tokens': 0, 'cached_tokens': 0}}, 'model_name': 'gpt-4o-mini-2024-07-18', 'system_fingerprint': 'fp_06737a9306', 'finish_reason': 'tool_calls', 'logprobs': None}, id='run-9643ce32-ca2b-4afa-87a3-bc6dab70e986-0', tool_calls=[{'name': 'tavily_search_results_json', 'args': {'query': '오늘의 날씨'}, 'id': 'call_0ovpwwN91pC4fhyJ9CB9Y8L3', 'type': 'tool_call'}], usage_metadata={'input_tokens': 86, 'output_tokens': 22, 'total_tokens': 108, 'input_token_details': {'audio': 0, 'cache_read': 0}, 'output_token_details': {'audio': 0, 'reasoning': 0}}), ToolMessage(content='[{\"title\": \"맨해튼, NY, 미국 일기예보 및 날씨 | Weather.com\", \"url\": \"https://weather.com/ko-KP/weather/today/l/Manhattan+NY+United+States?canonicalCityId=fc47c333c5d13e34e34c9fdb6e047ceb70f7891e01bc9e1d574b5f93f58aa76d\", \"content\": \"일별. 아침. 5°. 강수확률2% · 오후. 11°. 강수확률1% · 저녁. 9°. 강수확률4% · 밤새. 9°. 강수확률7%. 오늘 맨해튼, NY, 미국의 날씨 예보. 체감온도-1°. 06:24. 17:50.\", \"score\": 0.4229103}, {\"title\": \"뉴욕, NY 3일 날씨 예보 - AccuWeather\", \"url\": \"https://www.accuweather.com/ko/us/new-york/10021/weather-forecast/349727\", \"content\": \"뉴욕, NY 3일 날씨 예보 | AccuWeather 뉴욕 뉴욕 50° 오늘 WinterCast 지역 {stormName} 추적기 시간별 일별 레이더 MinuteCast 월 대기질 건강 및 활동 오늘 --시간별 일별 레이더 MinuteCast 월 대기질 건강 및 활동 현재 기상 ----- AM 1:34 50°F RealFeel® 51° 대체로 흐림 추가 상세 정보 바람 동북동 3mi/h 돌풍 3mi/h 대기질 나쁨전망 -- 일요일 날씨가 확연히 추워짐 58° 39° 흐리고 약한 바람이 불며 몇 차례 소나기가 내림 대체로 맑고 약한 바람이 붊 84%금 2. 1.  56° 25° 대체로 흐리고 약한 바람이 붊 약간 흐림 25%일 3. 2.  37° 22° 대체로 맑고 약한 바람이 붊 맑고 추움 1%월 3. 4.  49° 45° 대체로 흐림 흐리고 가벼운 비가 내림 25%수 3. 8.  43° 33° 점차 흐려짐 대체로 흐림 3%\", \"score\": 0.4135014}]', name='tavily_search_results_json', id='5c397464-125a-4c19-be5d-b547a85c4bbd', tool_call_id='call_0ovpwwN91pC4fhyJ9CB9Y8L3', artifact={'query': '오늘의 날씨', 'follow_up_questions': None, 'answer': None, 'images': [], 'results': [{'url': 'https://weather.com/ko-KP/weather/today/l/Manhattan+NY+United+States?canonicalCityId=fc47c333c5d13e34e34c9fdb6e047ceb70f7891e01bc9e1d574b5f93f58aa76d', 'title': '맨해튼, NY, 미국 일기예보 및 날씨 | Weather.com', 'content': '일별. 아침. 5°. 강수확률2% · 오후. 11°. 강수확률1% · 저녁. 9°. 강수확률4% · 밤새. 9°. 강수확률7%. 오늘 맨해튼, NY, 미국의 날씨 예보. 체감온도-1°. 06:24. 17:50.', 'score': 0.4229103, 'raw_content': None}, {'url': 'https://www.accuweather.com/ko/us/new-york/10021/weather-forecast/349727', 'title': '뉴욕, NY 3일 날씨 예보 - AccuWeather', 'content': '뉴욕, NY 3일 날씨 예보 | AccuWeather 뉴욕 뉴욕 50° 오늘 WinterCast 지역 {stormName} 추적기 시간별 일별 레이더 MinuteCast 월 대기질 건강 및 활동 오늘 --시간별 일별 레이더 MinuteCast 월 대기질 건강 및 활동 현재 기상 ----- AM 1:34 50°F RealFeel® 51° 대체로 흐림 추가 상세 정보 바람 동북동 3mi/h 돌풍 3mi/h 대기질 나쁨전망 -- 일요일 날씨가 확연히 추워짐 58° 39° 흐리고 약한 바람이 불며 몇 차례 소나기가 내림 대체로 맑고 약한 바람이 붊 84%금 2. 1.  56° 25° 대체로 흐리고 약한 바람이 붊 약간 흐림 25%일 3. 2.  37° 22° 대체로 맑고 약한 바람이 붊 맑고 추움 1%월 3. 4.  49° 45° 대체로 흐림 흐리고 가벼운 비가 내림 25%수 3. 8.  43° 33° 점차 흐려짐 대체로 흐림 3%', 'score': 0.4135014, 'raw_content': None}], 'response_time': 1.28}), HumanMessage(content='오늘의 날씨를 알려줘', additional_kwargs={}, response_metadata={}, id='57e98e77-9ab1-4e02-aa72-fe69e16ec773'), AIMessage(content='오늘 뉴욕, NY의 날씨는 다음과 같습니다:\\n\\n- 아침: 5°C, 강수 확률 2%\\n- 오후: 11°C, 강수 확률 1%\\n- 저녁: 9°C, 강수 확률 4%\\n- 밤새: 9°C, 강수 확률 7%\\n\\n체감 온도는 -1°C입니다. 전체적으로 대체로 흐린 날씨입니다.\\n\\n자세한 내용은 [Weather.com](https://weather.com/ko-KP/weather/today/l/Manhattan+NY+United+States?canonicalCityId=fc47c333c5d13e34e34c9fdb6e047ceb70f7891e01bc9e1d574b5f93f58aa76d)에서 확인할 수 있습니다.', additional_kwargs={'refusal': None}, response_metadata={'token_usage': {'completion_tokens': 178, 'prompt_tokens': 679, 'total_tokens': 857, 'completion_tokens_details': {'accepted_prediction_tokens': 0, 'audio_tokens': 0, 'reasoning_tokens': 0, 'rejected_prediction_tokens': 0}, 'prompt_tokens_details': {'audio_tokens': 0, 'cached_tokens': 0}}, 'model_name': 'gpt-4o-mini-2024-07-18', 'system_fingerprint': 'fp_06737a9306', 'finish_reason': 'stop', 'logprobs': None}, id='run-64508a71-649d-4e3f-875e-9cb0d47c9db7-0', usage_metadata={'input_tokens': 679, 'output_tokens': 178, 'total_tokens': 857, 'input_token_details': {'audio': 0, 'cache_read': 0}, 'output_token_details': {'audio': 0, 'reasoning': 0}}), HumanMessage(content='오늘의 날씨를 검색해서 알려줘', additional_kwargs={}, response_metadata={}, id='6c074dc4-eb4e-4a34-9762-fe3423c68991'), AIMessage(content='', additional_kwargs={'tool_calls': [{'id': 'call_nhViPM80NxgLRAlBzK8DbK2p', 'function': {'arguments': '{\"query\":\"오늘의 날씨\"}', 'name': 'tavily_search_results_json'}, 'type': 'function'}], 'refusal': None}, response_metadata={'token_usage': {'completion_tokens': 22, 'prompt_tokens': 872, 'total_tokens': 894, 'completion_tokens_details': {'accepted_prediction_tokens': 0, 'audio_tokens': 0, 'reasoning_tokens': 0, 'rejected_prediction_tokens': 0}, 'prompt_tokens_details': {'audio_tokens': 0, 'cached_tokens': 0}}, 'model_name': 'gpt-4o-mini-2024-07-18', 'system_fingerprint': 'fp_06737a9306', 'finish_reason': 'tool_calls', 'logprobs': None}, id='run-fe50cc19-b276-4f13-a182-ca2e4d953be5-0', tool_calls=[{'name': 'tavily_search_results_json', 'args': {'query': '오늘의 날씨'}, 'id': 'call_nhViPM80NxgLRAlBzK8DbK2p', 'type': 'tool_call'}], usage_metadata={'input_tokens': 872, 'output_tokens': 22, 'total_tokens': 894, 'input_token_details': {'audio': 0, 'cache_read': 0}, 'output_token_details': {'audio': 0, 'reasoning': 0}})]}, next=('tools',), config={'configurable': {'thread_id': '1', 'checkpoint_ns': '', 'checkpoint_id': '1eff96ab-91fc-61d8-8008-37fc196045ad'}}, metadata={'source': 'loop', 'writes': {'chatbot': {'messages': [AIMessage(content='', additional_kwargs={'tool_calls': [{'id': 'call_nhViPM80NxgLRAlBzK8DbK2p', 'function': {'arguments': '{\"query\":\"오늘의 날씨\"}', 'name': 'tavily_search_results_json'}, 'type': 'function'}], 'refusal': None}, response_metadata={'token_usage': {'completion_tokens': 22, 'prompt_tokens': 872, 'total_tokens': 894, 'completion_tokens_details': {'accepted_prediction_tokens': 0, 'audio_tokens': 0, 'reasoning_tokens': 0, 'rejected_prediction_tokens': 0}, 'prompt_tokens_details': {'audio_tokens': 0, 'cached_tokens': 0}}, 'model_name': 'gpt-4o-mini-2024-07-18', 'system_fingerprint': 'fp_06737a9306', 'finish_reason': 'tool_calls', 'logprobs': None}, id='run-fe50cc19-b276-4f13-a182-ca2e4d953be5-0', tool_calls=[{'name': 'tavily_search_results_json', 'args': {'query': '오늘의 날씨'}, 'id': 'call_nhViPM80NxgLRAlBzK8DbK2p', 'type': 'tool_call'}], usage_metadata={'input_tokens': 872, 'output_tokens': 22, 'total_tokens': 894, 'input_token_details': {'audio': 0, 'cache_read': 0}, 'output_token_details': {'audio': 0, 'reasoning': 0}})]}}, 'thread_id': '1', 'step': 8, 'parents': {}}, created_at='2025-03-05T02:37:03.949030+00:00', parent_config={'configurable': {'thread_id': '1', 'checkpoint_ns': '', 'checkpoint_id': '1eff96ab-8ad0-6a80-8007-9aa0e923016d'}}, tasks=(PregelTask(id='04ad110e-1deb-00d5-8433-9c2a54651eac', name='tools', path=('__pregel_pull', 'tools'), error=None, interrupts=(), state=None, result=None),))\n",
      "('tools',)\n"
     ]
    }
   ],
   "source": [
    "snapshot = graph.get_state(config)\n",
    "print(snapshot)\n",
    "print(snapshot.next)"
   ]
  },
  {
   "cell_type": "code",
   "execution_count": 11,
   "metadata": {},
   "outputs": [
    {
     "name": "stdout",
     "output_type": "stream",
     "text": [
      "[{'name': 'tavily_search_results_json', 'args': {'query': '오늘의 날씨'}, 'id': 'call_nhViPM80NxgLRAlBzK8DbK2p', 'type': 'tool_call'}]\n"
     ]
    }
   ],
   "source": [
    "existing_message = snapshot.values[\"messages\"][-1]\n",
    "print(existing_message.tool_calls)"
   ]
  },
  {
   "cell_type": "code",
   "execution_count": 12,
   "metadata": {},
   "outputs": [
    {
     "name": "stdout",
     "output_type": "stream",
     "text": [
      "==================================\u001b[1m Ai Message \u001b[0m==================================\n",
      "Tool Calls:\n",
      "  tavily_search_results_json (call_nhViPM80NxgLRAlBzK8DbK2p)\n",
      " Call ID: call_nhViPM80NxgLRAlBzK8DbK2p\n",
      "  Args:\n",
      "    query: 오늘의 날씨\n",
      "=================================\u001b[1m Tool Message \u001b[0m=================================\n",
      "Name: tavily_search_results_json\n",
      "\n",
      "[{\"title\": \"맨해튼, NY, 미국 일기예보 및 날씨 | Weather.com\", \"url\": \"https://weather.com/ko-KP/weather/today/l/Manhattan+NY+United+States?canonicalCityId=fc47c333c5d13e34e34c9fdb6e047ceb70f7891e01bc9e1d574b5f93f58aa76d\", \"content\": \"일별. 아침. 5°. 강수확률2% · 오후. 11°. 강수확률1% · 저녁. 9°. 강수확률4% · 밤새. 9°. 강수확률7%. 오늘 맨해튼, NY, 미국의 날씨 예보. 체감온도-1°. 06:24. 17:50.\", \"score\": 0.4229103}, {\"title\": \"뉴욕, NY 3일 날씨 예보 - AccuWeather\", \"url\": \"https://www.accuweather.com/ko/us/new-york/10021/weather-forecast/349727\", \"content\": \"뉴욕, NY 3일 날씨 예보 | AccuWeather 뉴욕 뉴욕 50° 오늘 WinterCast 지역 {stormName} 추적기 시간별 일별 레이더 MinuteCast 월 대기질 건강 및 활동 오늘 --시간별 일별 레이더 MinuteCast 월 대기질 건강 및 활동 현재 기상 ----- AM 1:34 50°F RealFeel® 51° 대체로 흐림 추가 상세 정보 바람 동북동 3mi/h 돌풍 3mi/h 대기질 나쁨전망 -- 일요일 날씨가 확연히 추워짐 58° 39° 흐리고 약한 바람이 불며 몇 차례 소나기가 내림 대체로 맑고 약한 바람이 붊 84%금 2. 1.  56° 25° 대체로 흐리고 약한 바람이 붊 약간 흐림 25%일 3. 2.  37° 22° 대체로 맑고 약한 바람이 붊 맑고 추움 1%월 3. 4.  49° 45° 대체로 흐림 흐리고 가벼운 비가 내림 25%수 3. 8.  43° 33° 점차 흐려짐 대체로 흐림 3%\", \"score\": 0.4135014}]\n",
      "==================================\u001b[1m Ai Message \u001b[0m==================================\n",
      "\n",
      "오늘 뉴욕, NY의 날씨는 다음과 같습니다:\n",
      "\n",
      "- **아침:** 5°C, 강수 확률 2%\n",
      "- **오후:** 11°C, 강수 확률 1%\n",
      "- **저녁:** 9°C, 강수 확률 4%\n",
      "- **밤새:** 9°C, 강수 확률 7%\n",
      "\n",
      "체감 온도는 -1°C입니다.\n",
      "\n",
      "더 자세한 정보는 [Weather.com](https://weather.com/ko-KP/weather/today/l/Manhattan+NY+United+States?canonicalCityId=fc47c333c5d13e34e34c9fdb6e047ceb70f7891e01bc9e1d574b5f93f58aa76d)에서 확인할 수 있습니다.\n"
     ]
    }
   ],
   "source": [
    "events = graph.stream(None, config, stream_mode=\"values\")\n",
    "for event in events:\n",
    "    if \"messages\" in event:\n",
    "        event[\"messages\"][-1].pretty_print()"
   ]
  }
 ],
 "metadata": {
  "kernelspec": {
   "display_name": "venv",
   "language": "python",
   "name": "python3"
  },
  "language_info": {
   "codemirror_mode": {
    "name": "ipython",
    "version": 3
   },
   "file_extension": ".py",
   "mimetype": "text/x-python",
   "name": "python",
   "nbconvert_exporter": "python",
   "pygments_lexer": "ipython3",
   "version": "3.13.2"
  }
 },
 "nbformat": 4,
 "nbformat_minor": 2
}
