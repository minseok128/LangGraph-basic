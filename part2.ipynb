{
 "cells": [
  {
   "cell_type": "code",
   "execution_count": 7,
   "metadata": {},
   "outputs": [
    {
     "data": {
      "text/plain": [
       "True"
      ]
     },
     "execution_count": 7,
     "metadata": {},
     "output_type": "execute_result"
    }
   ],
   "source": [
    "import dotenv\n",
    "import os\n",
    "\n",
    "dotenv.load_dotenv()"
   ]
  },
  {
   "cell_type": "code",
   "execution_count": 8,
   "metadata": {},
   "outputs": [
    {
     "data": {
      "text/plain": [
       "[{'title': \"Beginner's Guide to LangGraph: Understanding State, Nodes, and ...\",\n",
       "  'url': 'https://medium.com/@kbdhunga/beginners-guide-to-langgraph-understanding-state-nodes-and-edges-part-1-897e6114fa48',\n",
       "  'content': \"Beginner’s Guide to LangGraph: Understanding State, Nodes, and Edges — Part 1 | by Kamal Dhungana | Medium Beginner’s Guide to LangGraph: Understanding State, Nodes, and Edges — Part 1 LangGraph — State, Node and Edge Explained Mainly, we will focus on various components of LangGraph: State, Node, and Edges, and how to build a complete graph from these components. Once we understand these components, we will be able to build relatively complex LangGraph-based agents. Each node represents a specific function or operation that processes the current state. Nodes can perform computations, modify the state, or generate outputs based on the input they receive. Follow 1.2K Followers Data scientist with a passion for AI, Regularly blogging about LLM and OpenAI's innovations,Sharing insights for AI community growth Follow\",\n",
       "  'score': 0.7570233},\n",
       " {'title': 'LangGraph - LangChain Blog',\n",
       "  'url': 'https://blog.langchain.dev/langgraph/',\n",
       "  'content': 'TL;DR: LangGraph is module built on top of LangChain to better enable creation of cyclical graphs, often needed for agent runtimes. This state is updated by nodes in the graph, which return operations to attributes of this state (in the form of a key-value store). After adding nodes, you can then add edges to create the graph. An example of this may be in the basic agent runtime, where we always want the model to be called after we call a tool. graph.add_edge(\"tools\", \"model\") The state of this graph by default contains concepts that should be familiar to you if you\\'ve used LangChain agents: input, chat_history, intermediate_steps (and agent_outcome to represent the most recent agent outcome)',\n",
       "  'score': 0.7062922}]"
      ]
     },
     "execution_count": 8,
     "metadata": {},
     "output_type": "execute_result"
    }
   ],
   "source": [
    "from langchain_community.tools.tavily_search import TavilySearchResults\n",
    "\n",
    "tool = TavilySearchResults(max_results=2)\n",
    "tools = [tool]\n",
    "tool.invoke(\"What's a 'node' in langgraph?\")"
   ]
  },
  {
   "cell_type": "code",
   "execution_count": 9,
   "metadata": {},
   "outputs": [
    {
     "data": {
      "text/plain": [
       "<langgraph.graph.state.StateGraph at 0x10e9def90>"
      ]
     },
     "execution_count": 9,
     "metadata": {},
     "output_type": "execute_result"
    }
   ],
   "source": [
    "from typing import Annotated\n",
    "\n",
    "from langchain_openai import ChatOpenAI\n",
    "from typing_extensions import TypedDict\n",
    "\n",
    "from langgraph.graph import StateGraph, START, END\n",
    "from langgraph.graph.message import add_messages\n",
    "\n",
    "\n",
    "class State(TypedDict):\n",
    "    messages: Annotated[list, add_messages]\n",
    "\n",
    "\n",
    "graph_builder = StateGraph(State)\n",
    "\n",
    "\n",
    "llm = ChatOpenAI(model=\"gpt-4o-mini\")\n",
    "# Modification: tell the LLM which tools it can call\n",
    "llm_with_tools = llm.bind_tools(tools)\n",
    "\n",
    "\n",
    "def chatbot(state: State):\n",
    "    return {\"messages\": [llm_with_tools.invoke(state[\"messages\"])]}\n",
    "\n",
    "\n",
    "graph_builder.add_node(\"chatbot\", chatbot)"
   ]
  },
  {
   "cell_type": "code",
   "execution_count": 10,
   "metadata": {},
   "outputs": [
    {
     "data": {
      "text/plain": [
       "<langgraph.graph.state.StateGraph at 0x10e9def90>"
      ]
     },
     "execution_count": 10,
     "metadata": {},
     "output_type": "execute_result"
    }
   ],
   "source": [
    "import json\n",
    "\n",
    "from langchain_core.messages import ToolMessage\n",
    "\n",
    "\n",
    "class BasicToolNode:\n",
    "    \"\"\"A node that runs the tools requested in the last AIMessage.\"\"\"\n",
    "\n",
    "    def __init__(self, tools: list) -> None:\n",
    "        self.tools_by_name = {tool.name: tool for tool in tools}\n",
    "\n",
    "    def __call__(self, inputs: dict):\n",
    "        if messages := inputs.get(\"messages\", []):\n",
    "            message = messages[-1]\n",
    "        else:\n",
    "            raise ValueError(\"No message found in input\")\n",
    "        outputs = []\n",
    "        for tool_call in message.tool_calls:\n",
    "            tool_result = self.tools_by_name[tool_call[\"name\"]].invoke(\n",
    "                tool_call[\"args\"]\n",
    "            )\n",
    "            outputs.append(\n",
    "                ToolMessage(\n",
    "                    content=json.dumps(tool_result),\n",
    "                    name=tool_call[\"name\"],\n",
    "                    tool_call_id=tool_call[\"id\"],\n",
    "                )\n",
    "            )\n",
    "        return {\"messages\": outputs}\n",
    "\n",
    "\n",
    "tool_node = BasicToolNode(tools=[tool])\n",
    "graph_builder.add_node(\"tools\", tool_node)"
   ]
  },
  {
   "cell_type": "code",
   "execution_count": 11,
   "metadata": {},
   "outputs": [],
   "source": [
    "from typing import Literal\n",
    "\n",
    "def route_tools(\n",
    "    state: State,\n",
    "):\n",
    "    \"\"\"\n",
    "    마지막 메시지에 도구 호출이 있으면 ToolNode로 라우팅하기 위해 conditional_edge에서 사용한다.\n",
    "    그렇지 않으면 종료로 라우팅한다.\n",
    "    \"\"\"\n",
    "    if isinstance(state, list):\n",
    "        ai_message = state[-1]\n",
    "    elif messages := state.get(\"messages\", []):\n",
    "        ai_message = messages[-1]\n",
    "    else:\n",
    "        raise ValueError(f\"No messages found in input state to tool_edge: {state}\")\n",
    "    if hasattr(ai_message, \"tool_calls\") and len(ai_message.tool_calls) > 0:\n",
    "        return \"tools\"\n",
    "    return END\n",
    "\n",
    "graph_builder.add_conditional_edges(\n",
    "    \"chatbot\",\n",
    "    route_tools,\n",
    ")\n",
    "\n",
    "graph_builder.add_edge(\"tools\", \"chatbot\")\n",
    "graph_builder.add_edge(START, \"chatbot\")\n",
    "graph = graph_builder.compile()"
   ]
  },
  {
   "cell_type": "code",
   "execution_count": 12,
   "metadata": {},
   "outputs": [
    {
     "data": {
      "image/png": "[encoded data removed]",
      "text/plain": [
       "<IPython.core.display.Image object>"
      ]
     },
     "metadata": {},
     "output_type": "display_data"
    }
   ],
   "source": [
    "from IPython.display import Image, display\n",
    "\n",
    "try:\n",
    "    img = Image(graph.get_graph().draw_mermaid_png())\n",
    "    display(img)\n",
    "except Exception as e:\n",
    "    print(f\"Error displaying image: {e}\")"
   ]
  },
  {
   "cell_type": "code",
   "execution_count": 15,
   "metadata": {},
   "outputs": [
    {
     "name": "stdout",
     "output_type": "stream",
     "text": [
      "result: \n",
      "[{\"title\": \"\\uc11c\\uc6b8\\ud2b9\\ubcc4\\uc2dc, \\uc11c\\uc6b8\\uc2dc, \\ub300\\ud55c\\ubbfc\\uad6d \\ud604\\uc7ac \\ub0a0\\uc528 - AccuWeather\", \"url\": \"https://www.accuweather.com/ko/kr/seoul/226081/current-weather/226081\", \"content\": \"\\uc11c\\uc6b8\\ud2b9\\ubcc4\\uc2dc, \\uc11c\\uc6b8\\uc2dc, \\ub300\\ud55c\\ubbfc\\uad6d \\ud604\\uc7ac \\ub0a0\\uc528 | AccuWeather \\uc11c\\uc6b8\\ud2b9\\ubcc4\\uc2dc, \\uc11c\\uc6b8\\uc2dc ========== 31\\u00b0F \\ud604\\uc7ac \\uc704\\uce58 \\uc0ac\\uc6a9 \\uc11c\\uc6b8\\ud2b9\\ubcc4\\uc2dc \\uc11c\\uc6b8\\uc2dc 31\\u00b0 \\uc11c\\uc6b8\\ud2b9\\ubcc4\\uc2dc, \\uc11c\\uc6b8\\uc2dc \\ub0a0\\uc528 \\uc624\\ub298 WinterCast \\uc9c0\\uc5ed {stormName} \\ucd94\\uc801\\uae30 \\uc2dc\\uac04\\ubcc4 \\uc77c\\ubcc4 \\ub808\\uc774\\ub354 MinuteCast \\uc6d4 \\ub300\\uae30\\uc9c8 \\uac74\\uac15 \\ubc0f \\ud65c\\ub3d9 \\uc624\\ub298 WinterCast \\uc2dc\\uac04\\ubcc4 \\uc77c\\ubcc4 \\ub808\\uc774\\ub354 MinuteCast \\uc6d4 \\ub300\\uae30\\uc9c8 \\uac74\\uac15 \\ubc0f \\ud65c\\ub3d9 RealFeel\\u00ae 36\\u00b0 \\ucd94\\uc6c0 RealFeel Shade\\u2122 32\\u00b0 \\ucd94\\uc6c0 36\\u00b0 32\\u00b0 \\ucd5c\\ub300 \\uc790\\uc678\\uc120 \\uc9c0\\uc218 \\ub0a8\\ub0a8\\uc11c 4mi/h 4mi/h 8\\u00b0 F 10mi RealFeel\\u00ae 37\\u00b0 \\ucd94\\uc6c0 RealFeel Shade\\u2122 33\\u00b0 \\ucd94\\uc6c0 \\ucd5c\\ub300 \\uc790\\uc678\\uc120 \\uc9c0\\uc2183 \\ubcf4\\ud1b5 \\ubc14\\ub78c\\uc11c\\ub0a8\\uc11c 5mi/h \\uac15\\uc218 \\ud655\\ub96040% \\uac15\\uc2180.00in \\uac15\\uc218 \\uc2dc\\uac042 RealFeel\\u00ae 18\\u00b0 \\ub9e4\\uc6b0 \\ucd94\\uc6c0 \\ub9d1\\uace0 \\ucd94\\uc6c0 \\ubc14\\ub78c\\ub0a8\\ub0a8\\ub3d9 2mi/h \\uac15\\uc218 \\ud655\\ub9600% \\uac15\\uc2180.00in \\uc77c\\ubab0 PM 6:05 \\uc77c\\ucd9c PM 3:32 36\\u00b0 17\\u00b0 36\\u00b0 19\\u00b0 45\\u00b0 29\\u00b0 ### \\uc2dc\\uac04\\ubcc4### \\uc77c\\ubcc4### \\uc6d4 \\uc804 \\uc138\\uacc4 \\uc544\\uc2dc\\uc544 \\ub300\\ud55c\\ubbfc\\uad6d \\uc11c\\uc6b8\\uc2dc \\uc11c\\uc6b8\\ud2b9\\ubcc4\\uc2dc \\ub3d9\\uc791\\uad6c, \\uc11c\\uc6b8\\uc2dc \\ub9c8\\ud3ec\\uad6c, \\uc11c\\uc6b8\\uc2dc \\uc11c\\ub300\\ubb38\\uad6c, \\uc11c\\uc6b8\\uc2dc\", \"score\": 0.8266142}, {\"title\": \"\\uc11c\\uc6b8 \\uc2e4\\uc2dc\\uac04 \\ub0a0\\uc528 \\uc815\\ubcf4 | \\uc11c\\uc6b8 \\uacf5\\uc2dd \\uad00\\uad11\\uc815\\ubcf4 \\uc6f9\\uc0ac\\uc774\\ud2b8\", \"url\": \"https://korean.visitseoul.net/weather\", \"content\": \"\\uc11c\\uc6b8 \\uc2e4\\uc2dc\\uac04 \\ub0a0\\uc528 \\uc815\\ubcf4 | \\uc11c\\uc6b8 \\uacf5\\uc2dd \\uad00\\uad11\\uc815\\ubcf4 \\uc6f9\\uc0ac\\uc774\\ud2b8 \\uc2a4\\ub9c8\\ud2b8\\ud55c \\uc11c\\uc6b8 \\uc5ec\\ud589 \\uc2a4\\ub9c8\\ud2b8\\ud55c \\uc11c\\uc6b8 \\uc5ec\\ud589 \\uc9c0\\uae08\\uc758 \\uc11c\\uc6b8 \\uc9c0\\uae08\\uc758 \\uc11c\\uc6b8 Visit Seoul \\uc774\\ubca4\\ud2b8 \\uc11c\\uc6b8 \\uc2e4\\uc2dc\\uac04 \\uad00\\uad11\\uac00\\uc774\\ub4dc \\ub098\\uc758 \\uc11c\\uc6b8 \\ud050\\ub808\\uc774\\uc158 \\ub2e4\\uc591\\ud55c \\ud14c\\ub9c8\\uc758 \\uc11c\\uc6b8 \\uc5ec\\ud589 About Seoul \\uac80\\uc0c9 \\uc601\\uc5ed \\uc5f4\\uae30 \\ub098\\uc758 \\ucc1c\\ud55c \\ubaa9\\ub85d \\ubc14\\ub85c\\uac00\\uae30 Seoul Stay Accessible Seoul Seoul Hiking Tourism \\uac80\\uc0c9 \\uc601\\uc5ed \\uc5f4\\uae30  \\uac80\\uc0c9\\uc5b4 \\uc0ad\\uc81c \\uac80\\uc0c9\\uc2e4\\ud589 \\ub098\\uc758 \\ucc1c\\ud55c \\ubaa9\\ub85d \\ubc14\\ub85c\\uac00\\uae30 > \\uc5ec\\ud589\\uc815\\ubcf4> \\uc11c\\uc6b8\\uc758 \\ub0a0\\uc528 3\\uc77c \\uc608\\ubcf4 : \\ub0a0\\uc9dc, \\ub0a0\\uc528, \\ucd5c\\uc800/\\ucd5c\\uace0\\uae30\\uc628(\\u2103), \\uac15\\uc218\\ud655\\ub960 \\ub0a0\\uc9dc\\uc624\\ub298 : 2025-02-25\\ub0b4\\uc77c : 2025-02-26\\ubaa8\\ub808 : 2025-02-27\\ub0a0\\uc528\\uad6c\\ub984\\ub9ce\\uc74c\\ub9d1\\uc74c\\ub9d1\\uc74c\\ucd5c\\uc800/\\ucd5c\\uace0\\uae30\\uc628(\\u2103)-2\\u2103 / 7\\u2103-2\\u2103 / 6\\u2103-1\\u2103 / 11\\u2103\\uac15\\uc218\\ud655\\ub96020% / 20%10% / 0%- \\uc8fc\\uac04\\uc608\\ubcf4 : \\ub0a0\\uc9dc, \\ub0a0\\uc528, \\ucd5c\\uc800/\\ucd5c\\uace0\\uae30\\uc628(\\u2103)      \\ub0a0\\uc9dc2025-02-252025-02-262025-02-272025-02-282025-03-01\\ub0a0\\uc528\\uad6c\\ub984\\ub9ce\\uc74c\\ub9d1\\uc74c\\ub9d1\\uc74c\\ud750\\ub9bc\\ud750\\ub9bc\\ucd5c\\uc800/\\ucd5c\\uace0\\uae30\\uc628(\\u2103)-2\\u2103 / 7\\u2103-2\\u2103 / 6\\u2103-1\\u2103 / 11\\u21033\\u2103 / 13\\u21035\\u2103 / 12\\u2103 STO \\uc11c\\uc6b8\\uad00\\uad11\\uc7ac\\ub2e8 SEOUL TOURISM ORGANIZATION SEOUL MY SOUL \\uad00\\uad11\\ubd88\\ud3b8\\ucc98\\ub9ac\\uc13c\\ud130 \\uc77c\\ubc18 \\uad00\\uad11 \\ubb38\\uc758 1330 AA APP AWARD24 INNOVATOR \\uc2a4\\ub9c8\\ud2b8\\uc571\\uc5b4\\uc6cc\\ub4dc\", \"score\": 0.8232293}]\n",
      "오늘 서울의 날씨는 대체로 맑은 편으로, 최저 기온은 약 -2°C, 최고 기온은 7°C 정도로 예상됩니다. 습도는 약 20%이며, 바람이 약하게 불 것으로 보입니다. 자세한 날씨 정보는 [여기](https://www.accuweather.com/ko/kr/seoul/226081/current-weather/226081)에서 확인하실 수 있습니다.\n"
     ]
    }
   ],
   "source": [
    "def stream_graph_updates(user_input: str):\n",
    "    messages = []\n",
    "    for event in graph.stream({\"messages\": [(\"user\", user_input)]}):\n",
    "        for value in event.values():\n",
    "            messages.append(value[\"messages\"][-1].content)\n",
    "\n",
    "    return \"\\n\".join(messages)\n",
    "\n",
    "\n",
    "question = \"오늘 서울 날씨가 어때?\"\n",
    "result = stream_graph_updates(question)\n",
    "print(f\"result: {result}\")"
   ]
  },
  {
   "cell_type": "code",
   "execution_count": null,
   "metadata": {},
   "outputs": [],
   "source": []
  }
 ],
 "metadata": {
  "kernelspec": {
   "display_name": "venv",
   "language": "python",
   "name": "python3"
  },
  "language_info": {
   "codemirror_mode": {
    "name": "ipython",
    "version": 3
   },
   "file_extension": ".py",
   "mimetype": "text/x-python",
   "name": "python",
   "nbconvert_exporter": "python",
   "pygments_lexer": "ipython3",
   "version": "3.13.2"
  }
 },
 "nbformat": 4,
 "nbformat_minor": 2
}
